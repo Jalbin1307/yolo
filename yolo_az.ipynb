{
 "cells": [
  {
   "cell_type": "markdown",
   "id": "2a3ba445",
   "metadata": {},
   "source": [
    "# Download VOC Dataset\n",
    "link : https://pjreddie.com/projects/pascal-voc-dataset-mirror/"
   ]
  },
  {
   "cell_type": "code",
   "execution_count": 22,
   "id": "950780b3",
   "metadata": {},
   "outputs": [],
   "source": [
    "import wget\n",
    "import os\n",
    "\n",
    "%mkdir train\n",
    "%mkdir test\n",
    "\n",
    "train_url = 'http://pjreddie.com/media/files/VOCtrainval_06-Nov-2007.tar'\n",
    "test_url = 'http://pjreddie.com/media/files/VOCtest_06-Nov-2007.tar'\n",
    "wget.download(train_url,'train/')\n",
    "wget.download(test_url,'test/')\n",
    "\n",
    "!tar -xf test/VOCtest_06-Nov-2007.tar -C test/\n",
    "!tar -xf train/VOCtrainval_06-Nov-2007.tar -C train/\n",
    "\n",
    "os.remove('test/VOCtest_06-Nov-2007.tar')\n",
    "os.remove('train/VOCtrainval_06-Nov-2007.tar')"
   ]
  },
  {
   "cell_type": "code",
   "execution_count": 23,
   "id": "5fd507ab",
   "metadata": {},
   "outputs": [],
   "source": [
    "annot_f = './{}/VOCdevkit/VOC2007/Annotations'\n",
    "image_f = './{}/VOCdevkit/VOC2007/JPEGImages/{}'\n",
    "\n",
    "classes = ['person',\n",
    "          'bird','cat','cow','dog','horse','sheep',\n",
    "          'aeroplane','bicycle','boat','bus','car','motobike','train',\n",
    "          'bottle','chair','dining table','potted plant','sofa','tv/monitor']\n",
    "\n",
    "num_classes = len(classes)\n",
    "feature_size = 7\n",
    "num_bboxes = 2"
   ]
  },
  {
   "cell_type": "code",
   "execution_count": null,
   "id": "483f1304",
   "metadata": {},
   "outputs": [],
   "source": []
  }
 ],
 "metadata": {
  "kernelspec": {
   "display_name": "Python 3 (ipykernel)",
   "language": "python",
   "name": "python3"
  },
  "language_info": {
   "codemirror_mode": {
    "name": "ipython",
    "version": 3
   },
   "file_extension": ".py",
   "mimetype": "text/x-python",
   "name": "python",
   "nbconvert_exporter": "python",
   "pygments_lexer": "ipython3",
   "version": "3.9.7"
  }
 },
 "nbformat": 4,
 "nbformat_minor": 5
}
