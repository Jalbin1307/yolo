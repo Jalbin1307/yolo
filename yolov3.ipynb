{
 "cells": [
  {
   "cell_type": "code",
   "execution_count": 4,
   "id": "a1c94180",
   "metadata": {},
   "outputs": [
    {
     "name": "stderr",
     "output_type": "stream",
     "text": [
      "fatal: destination path 'yolov3' already exists and is not an empty directory.\n"
     ]
    }
   ],
   "source": [
    "!git clone https://github.com/ultralytics/yolov3"
   ]
  },
  {
   "cell_type": "code",
   "execution_count": 9,
   "id": "3996f6b9",
   "metadata": {},
   "outputs": [
    {
     "name": "stdout",
     "output_type": "stream",
     "text": [
      "C:\\Users\\hong\\yolo\\yolov3\n"
     ]
    }
   ],
   "source": [
    "%cd yolov3"
   ]
  },
  {
   "cell_type": "code",
   "execution_count": 11,
   "id": "55a1b3c0",
   "metadata": {
    "collapsed": true
   },
   "outputs": [
    {
     "name": "stdout",
     "output_type": "stream",
     "text": [
      "Requirement already satisfied: matplotlib>=3.2.2 in c:\\users\\hong\\anaconda3\\envs\\ref\\lib\\site-packages (from -r requirements.txt (line 4)) (3.5.1)\n",
      "Requirement already satisfied: numpy>=1.18.5 in c:\\users\\hong\\anaconda3\\envs\\ref\\lib\\site-packages (from -r requirements.txt (line 5)) (1.22.0)\n",
      "Requirement already satisfied: opencv-python>=4.1.2 in c:\\users\\hong\\anaconda3\\envs\\ref\\lib\\site-packages (from -r requirements.txt (line 6)) (4.5.5.62)\n",
      "Requirement already satisfied: Pillow>=7.1.2 in c:\\users\\hong\\anaconda3\\envs\\ref\\lib\\site-packages (from -r requirements.txt (line 7)) (8.4.0)\n",
      "Requirement already satisfied: PyYAML>=5.3.1 in c:\\users\\hong\\anaconda3\\envs\\ref\\lib\\site-packages (from -r requirements.txt (line 8)) (6.0)\n",
      "Requirement already satisfied: requests>=2.23.0 in c:\\users\\hong\\anaconda3\\envs\\ref\\lib\\site-packages (from -r requirements.txt (line 9)) (2.26.0)\n",
      "Requirement already satisfied: scipy>=1.4.1 in c:\\users\\hong\\anaconda3\\envs\\ref\\lib\\site-packages (from -r requirements.txt (line 10)) (1.7.3)\n",
      "Requirement already satisfied: torch>=1.7.0 in c:\\users\\hong\\anaconda3\\envs\\ref\\lib\\site-packages (from -r requirements.txt (line 11)) (1.10.1)\n",
      "Requirement already satisfied: torchvision>=0.8.1 in c:\\users\\hong\\anaconda3\\envs\\ref\\lib\\site-packages (from -r requirements.txt (line 12)) (0.11.2)\n",
      "Requirement already satisfied: tqdm>=4.41.0 in c:\\users\\hong\\anaconda3\\envs\\ref\\lib\\site-packages (from -r requirements.txt (line 13)) (4.62.3)\n",
      "Requirement already satisfied: tensorboard>=2.4.1 in c:\\users\\hong\\anaconda3\\envs\\ref\\lib\\site-packages (from -r requirements.txt (line 16)) (2.7.0)\n",
      "Requirement already satisfied: wandb in c:\\users\\hong\\anaconda3\\envs\\ref\\lib\\site-packages (from -r requirements.txt (line 17)) (0.12.9)\n",
      "Requirement already satisfied: pandas>=1.1.4 in c:\\users\\hong\\anaconda3\\envs\\ref\\lib\\site-packages (from -r requirements.txt (line 20)) (1.3.5)\n",
      "Requirement already satisfied: seaborn>=0.11.0 in c:\\users\\hong\\anaconda3\\envs\\ref\\lib\\site-packages (from -r requirements.txt (line 21)) (0.11.2)\n",
      "Requirement already satisfied: thop in c:\\users\\hong\\anaconda3\\envs\\ref\\lib\\site-packages (from -r requirements.txt (line 36)) (0.0.31.post2005241907)\n",
      "Requirement already satisfied: pyparsing>=2.2.1 in c:\\users\\hong\\anaconda3\\envs\\ref\\lib\\site-packages (from matplotlib>=3.2.2->-r requirements.txt (line 4)) (3.0.4)\n",
      "Requirement already satisfied: kiwisolver>=1.0.1 in c:\\users\\hong\\anaconda3\\envs\\ref\\lib\\site-packages (from matplotlib>=3.2.2->-r requirements.txt (line 4)) (1.3.2)\n",
      "Requirement already satisfied: cycler>=0.10 in c:\\users\\hong\\anaconda3\\envs\\ref\\lib\\site-packages (from matplotlib>=3.2.2->-r requirements.txt (line 4)) (0.11.0)\n",
      "Requirement already satisfied: fonttools>=4.22.0 in c:\\users\\hong\\anaconda3\\envs\\ref\\lib\\site-packages (from matplotlib>=3.2.2->-r requirements.txt (line 4)) (4.28.5)\n",
      "Requirement already satisfied: python-dateutil>=2.7 in c:\\users\\hong\\anaconda3\\envs\\ref\\lib\\site-packages (from matplotlib>=3.2.2->-r requirements.txt (line 4)) (2.8.2)\n",
      "Requirement already satisfied: packaging>=20.0 in c:\\users\\hong\\anaconda3\\envs\\ref\\lib\\site-packages (from matplotlib>=3.2.2->-r requirements.txt (line 4)) (21.3)\n",
      "Requirement already satisfied: urllib3<1.27,>=1.21.1 in c:\\users\\hong\\anaconda3\\envs\\ref\\lib\\site-packages (from requests>=2.23.0->-r requirements.txt (line 9)) (1.26.7)\n",
      "Requirement already satisfied: idna<4,>=2.5 in c:\\users\\hong\\anaconda3\\envs\\ref\\lib\\site-packages (from requests>=2.23.0->-r requirements.txt (line 9)) (3.3)\n",
      "Requirement already satisfied: certifi>=2017.4.17 in c:\\users\\hong\\anaconda3\\envs\\ref\\lib\\site-packages (from requests>=2.23.0->-r requirements.txt (line 9)) (2021.10.8)\n",
      "Requirement already satisfied: charset-normalizer~=2.0.0 in c:\\users\\hong\\anaconda3\\envs\\ref\\lib\\site-packages (from requests>=2.23.0->-r requirements.txt (line 9)) (2.0.9)\n",
      "Requirement already satisfied: typing-extensions in c:\\users\\hong\\anaconda3\\envs\\ref\\lib\\site-packages (from torch>=1.7.0->-r requirements.txt (line 11)) (4.0.1)\n",
      "Requirement already satisfied: colorama in c:\\users\\hong\\anaconda3\\envs\\ref\\lib\\site-packages (from tqdm>=4.41.0->-r requirements.txt (line 13)) (0.4.4)\n",
      "Requirement already satisfied: absl-py>=0.4 in c:\\users\\hong\\anaconda3\\envs\\ref\\lib\\site-packages (from tensorboard>=2.4.1->-r requirements.txt (line 16)) (1.0.0)\n",
      "Requirement already satisfied: setuptools>=41.0.0 in c:\\users\\hong\\anaconda3\\envs\\ref\\lib\\site-packages (from tensorboard>=2.4.1->-r requirements.txt (line 16)) (58.0.4)\n",
      "Requirement already satisfied: google-auth<3,>=1.6.3 in c:\\users\\hong\\anaconda3\\envs\\ref\\lib\\site-packages (from tensorboard>=2.4.1->-r requirements.txt (line 16)) (2.3.3)\n",
      "Requirement already satisfied: wheel>=0.26 in c:\\users\\hong\\anaconda3\\envs\\ref\\lib\\site-packages (from tensorboard>=2.4.1->-r requirements.txt (line 16)) (0.37.0)\n",
      "Requirement already satisfied: tensorboard-data-server<0.7.0,>=0.6.0 in c:\\users\\hong\\anaconda3\\envs\\ref\\lib\\site-packages (from tensorboard>=2.4.1->-r requirements.txt (line 16)) (0.6.1)\n",
      "Requirement already satisfied: protobuf>=3.6.0 in c:\\users\\hong\\anaconda3\\envs\\ref\\lib\\site-packages (from tensorboard>=2.4.1->-r requirements.txt (line 16)) (3.19.1)\n",
      "Requirement already satisfied: grpcio>=1.24.3 in c:\\users\\hong\\anaconda3\\envs\\ref\\lib\\site-packages (from tensorboard>=2.4.1->-r requirements.txt (line 16)) (1.43.0)\n",
      "Requirement already satisfied: markdown>=2.6.8 in c:\\users\\hong\\anaconda3\\envs\\ref\\lib\\site-packages (from tensorboard>=2.4.1->-r requirements.txt (line 16)) (3.3.6)\n",
      "Requirement already satisfied: tensorboard-plugin-wit>=1.6.0 in c:\\users\\hong\\anaconda3\\envs\\ref\\lib\\site-packages (from tensorboard>=2.4.1->-r requirements.txt (line 16)) (1.8.0)\n",
      "Requirement already satisfied: werkzeug>=0.11.15 in c:\\users\\hong\\anaconda3\\envs\\ref\\lib\\site-packages (from tensorboard>=2.4.1->-r requirements.txt (line 16)) (2.0.2)\n",
      "Requirement already satisfied: google-auth-oauthlib<0.5,>=0.4.1 in c:\\users\\hong\\anaconda3\\envs\\ref\\lib\\site-packages (from tensorboard>=2.4.1->-r requirements.txt (line 16)) (0.4.6)\n",
      "Requirement already satisfied: six>=1.13.0 in c:\\users\\hong\\anaconda3\\envs\\ref\\lib\\site-packages (from wandb->-r requirements.txt (line 17)) (1.16.0)\n",
      "Requirement already satisfied: GitPython>=1.0.0 in c:\\users\\hong\\anaconda3\\envs\\ref\\lib\\site-packages (from wandb->-r requirements.txt (line 17)) (3.1.24)\n",
      "Requirement already satisfied: pathtools in c:\\users\\hong\\anaconda3\\envs\\ref\\lib\\site-packages (from wandb->-r requirements.txt (line 17)) (0.1.2)\n",
      "Requirement already satisfied: shortuuid>=0.5.0 in c:\\users\\hong\\anaconda3\\envs\\ref\\lib\\site-packages (from wandb->-r requirements.txt (line 17)) (1.0.8)\n",
      "Requirement already satisfied: yaspin>=1.0.0 in c:\\users\\hong\\anaconda3\\envs\\ref\\lib\\site-packages (from wandb->-r requirements.txt (line 17)) (2.1.0)\n",
      "Requirement already satisfied: promise<3,>=2.0 in c:\\users\\hong\\anaconda3\\envs\\ref\\lib\\site-packages (from wandb->-r requirements.txt (line 17)) (2.3)\n",
      "Requirement already satisfied: configparser>=3.8.1 in c:\\users\\hong\\anaconda3\\envs\\ref\\lib\\site-packages (from wandb->-r requirements.txt (line 17)) (5.2.0)\n",
      "Requirement already satisfied: Click!=8.0.0,>=7.0 in c:\\users\\hong\\anaconda3\\envs\\ref\\lib\\site-packages (from wandb->-r requirements.txt (line 17)) (8.0.3)\n",
      "Requirement already satisfied: subprocess32>=3.5.3 in c:\\users\\hong\\anaconda3\\envs\\ref\\lib\\site-packages (from wandb->-r requirements.txt (line 17)) (3.5.4)\n",
      "Requirement already satisfied: sentry-sdk>=1.0.0 in c:\\users\\hong\\anaconda3\\envs\\ref\\lib\\site-packages (from wandb->-r requirements.txt (line 17)) (1.5.1)\n",
      "Requirement already satisfied: docker-pycreds>=0.4.0 in c:\\users\\hong\\anaconda3\\envs\\ref\\lib\\site-packages (from wandb->-r requirements.txt (line 17)) (0.4.0)\n",
      "Requirement already satisfied: psutil>=5.0.0 in c:\\users\\hong\\anaconda3\\envs\\ref\\lib\\site-packages (from wandb->-r requirements.txt (line 17)) (5.9.0)\n",
      "Requirement already satisfied: pytz>=2017.3 in c:\\users\\hong\\anaconda3\\envs\\ref\\lib\\site-packages (from pandas>=1.1.4->-r requirements.txt (line 20)) (2021.3)\n",
      "Requirement already satisfied: gitdb<5,>=4.0.1 in c:\\users\\hong\\anaconda3\\envs\\ref\\lib\\site-packages (from GitPython>=1.0.0->wandb->-r requirements.txt (line 17)) (4.0.9)\n",
      "Requirement already satisfied: smmap<6,>=3.0.1 in c:\\users\\hong\\anaconda3\\envs\\ref\\lib\\site-packages (from gitdb<5,>=4.0.1->GitPython>=1.0.0->wandb->-r requirements.txt (line 17)) (5.0.0)\n",
      "Requirement already satisfied: cachetools<5.0,>=2.0.0 in c:\\users\\hong\\anaconda3\\envs\\ref\\lib\\site-packages (from google-auth<3,>=1.6.3->tensorboard>=2.4.1->-r requirements.txt (line 16)) (4.2.4)\n",
      "Requirement already satisfied: rsa<5,>=3.1.4 in c:\\users\\hong\\anaconda3\\envs\\ref\\lib\\site-packages (from google-auth<3,>=1.6.3->tensorboard>=2.4.1->-r requirements.txt (line 16)) (4.8)\n",
      "Requirement already satisfied: pyasn1-modules>=0.2.1 in c:\\users\\hong\\anaconda3\\envs\\ref\\lib\\site-packages (from google-auth<3,>=1.6.3->tensorboard>=2.4.1->-r requirements.txt (line 16)) (0.2.8)\n",
      "Requirement already satisfied: requests-oauthlib>=0.7.0 in c:\\users\\hong\\anaconda3\\envs\\ref\\lib\\site-packages (from google-auth-oauthlib<0.5,>=0.4.1->tensorboard>=2.4.1->-r requirements.txt (line 16)) (1.3.0)\n",
      "Requirement already satisfied: importlib-metadata>=4.4 in c:\\users\\hong\\anaconda3\\envs\\ref\\lib\\site-packages (from markdown>=2.6.8->tensorboard>=2.4.1->-r requirements.txt (line 16)) (4.8.2)\n",
      "Requirement already satisfied: zipp>=0.5 in c:\\users\\hong\\anaconda3\\envs\\ref\\lib\\site-packages (from importlib-metadata>=4.4->markdown>=2.6.8->tensorboard>=2.4.1->-r requirements.txt (line 16)) (3.6.0)\n",
      "Requirement already satisfied: pyasn1<0.5.0,>=0.4.6 in c:\\users\\hong\\anaconda3\\envs\\ref\\lib\\site-packages (from pyasn1-modules>=0.2.1->google-auth<3,>=1.6.3->tensorboard>=2.4.1->-r requirements.txt (line 16)) (0.4.8)\n",
      "Requirement already satisfied: oauthlib>=3.0.0 in c:\\users\\hong\\anaconda3\\envs\\ref\\lib\\site-packages (from requests-oauthlib>=0.7.0->google-auth-oauthlib<0.5,>=0.4.1->tensorboard>=2.4.1->-r requirements.txt (line 16)) (3.1.1)\n",
      "Requirement already satisfied: termcolor<2.0.0,>=1.1.0 in c:\\users\\hong\\anaconda3\\envs\\ref\\lib\\site-packages (from yaspin>=1.0.0->wandb->-r requirements.txt (line 17)) (1.1.0)\n",
      "Note: you may need to restart the kernel to use updated packages.\n"
     ]
    }
   ],
   "source": [
    "%pip install -r requirements.txt"
   ]
  },
  {
   "cell_type": "code",
   "execution_count": 26,
   "id": "194844ee",
   "metadata": {},
   "outputs": [
    {
     "name": "stderr",
     "output_type": "stream",
     "text": [
      "Using cache found in C:\\Users\\hong/.cache\\torch\\hub\\ultralytics_yolov3_master\n",
      "YOLOv3  09e28eb torch 1.10.1+cpu CPU\n",
      "\n",
      "Fusing layers... \n",
      "Model Summary: 261 layers, 61922845 parameters, 0 gradients, 156.1 GFLOPs\n",
      "Adding AutoShape... \n"
     ]
    }
   ],
   "source": [
    "import torch\n",
    "\n",
    "model = torch.hub.load('ultralytics/yolov3', 'yolov3')"
   ]
  },
  {
   "cell_type": "code",
   "execution_count": 27,
   "id": "185fcab2",
   "metadata": {},
   "outputs": [],
   "source": [
    "img = 'https://ultralytics.com/images/zidane.jpg' "
   ]
  },
  {
   "cell_type": "code",
   "execution_count": 28,
   "id": "3ff5dd0b",
   "metadata": {},
   "outputs": [],
   "source": [
    "results = model(img)"
   ]
  },
  {
   "cell_type": "code",
   "execution_count": 29,
   "id": "90019af2",
   "metadata": {},
   "outputs": [
    {
     "name": "stderr",
     "output_type": "stream",
     "text": [
      "image 1/1: 720x1280 2 persons, 3 ties\n",
      "Speed: 914.8ms pre-process, 359.0ms inference, 1.0ms NMS per image at shape (1, 3, 384, 640)\n"
     ]
    }
   ],
   "source": [
    "results.print()"
   ]
  },
  {
   "cell_type": "code",
   "execution_count": 30,
   "id": "2be5f6fe",
   "metadata": {},
   "outputs": [],
   "source": [
    "results.show()"
   ]
  }
 ],
 "metadata": {
  "kernelspec": {
   "display_name": "Python 3 (ipykernel)",
   "language": "python",
   "name": "python3"
  },
  "language_info": {
   "codemirror_mode": {
    "name": "ipython",
    "version": 3
   },
   "file_extension": ".py",
   "mimetype": "text/x-python",
   "name": "python",
   "nbconvert_exporter": "python",
   "pygments_lexer": "ipython3",
   "version": "3.9.7"
  }
 },
 "nbformat": 4,
 "nbformat_minor": 5
}
